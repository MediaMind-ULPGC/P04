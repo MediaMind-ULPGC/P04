{
 "cells": [
  {
   "cell_type": "markdown",
   "metadata": {},
   "source": [
    "# Práctica 4: Procesamieto de audio\n",
    "\n",
    "### **Participantes:**\n",
    "- Gerardo León Quintana\n",
    "- Susana Suárez Mendoza"
   ]
  },
  {
   "cell_type": "markdown",
   "metadata": {},
   "source": [
    "## Ejercicio 1:\n",
    "\n",
    "Construir un identificador de notas musicales. Es decir; en su versión más sencilla (y suficiente) la entrada es un sonido con una sola nota musical y debe identificar cuál es. Por simplicidad elija un único instrumento para la identificación. "
   ]
  },
  {
   "cell_type": "code",
   "execution_count": 1,
   "metadata": {},
   "outputs": [],
   "source": [
    "from identifiers.identifier_factory import IdentifierFactory\n",
    "import warnings"
   ]
  },
  {
   "cell_type": "markdown",
   "metadata": {},
   "source": [
    "## 1 nota"
   ]
  },
  {
   "cell_type": "code",
   "execution_count": 2,
   "metadata": {},
   "outputs": [
    {
     "name": "stdout",
     "output_type": "stream",
     "text": [
      "Frecuencia dominante: 469.32848563353747\n"
     ]
    },
    {
     "data": {
      "text/plain": [
       "'Nota identificada: LaSostenidoSib en la octava A#4'"
      ]
     },
     "execution_count": 2,
     "metadata": {},
     "output_type": "execute_result"
    }
   ],
   "source": [
    "archivo_audio = \"./audios/piano/la_sib.wav\"\n",
    "\n",
    "identifier = IdentifierFactory.initialize_identifier(\"Piano\")\n",
    "\n",
    "identifier.identify_note_from_audio(archivo_audio, 6)"
   ]
  },
  {
   "cell_type": "code",
   "execution_count": 3,
   "metadata": {},
   "outputs": [
    {
     "name": "stdout",
     "output_type": "stream",
     "text": [
      "Frecuencia dominante: 235.30932981540707\n"
     ]
    },
    {
     "data": {
      "text/plain": [
       "'Nota identificada: LaSostenidoSib en la octava A#3'"
      ]
     },
     "execution_count": 3,
     "metadata": {},
     "output_type": "execute_result"
    }
   ],
   "source": [
    "warnings.filterwarnings(\"ignore\")\n",
    "\n",
    "archivo_audio = \"./audios/guitarra/la_sostenido.wav\"\n",
    "\n",
    "identifier = IdentifierFactory.initialize_identifier(\"Guitar\")\n",
    "identifier.identify_note_from_audio(archivo_audio)"
   ]
  },
  {
   "cell_type": "code",
   "execution_count": 4,
   "metadata": {},
   "outputs": [
    {
     "name": "stdout",
     "output_type": "stream",
     "text": [
      "Frecuencia dominante: 988.2096861962634\n"
     ]
    },
    {
     "data": {
      "text/plain": [
       "'Nota identificada: Si en la octava B5'"
      ]
     },
     "execution_count": 4,
     "metadata": {},
     "output_type": "execute_result"
    }
   ],
   "source": [
    "archivo_audio = \"./audios/trompeta/si.wav\"\n",
    "\n",
    "identifier = IdentifierFactory.initialize_identifier(\"Trumpet\")\n",
    "identifier.identify_note_from_audio(archivo_audio)"
   ]
  },
  {
   "cell_type": "code",
   "execution_count": 5,
   "metadata": {},
   "outputs": [
    {
     "name": "stdout",
     "output_type": "stream",
     "text": [
      "Frecuencia dominante: 1978.6666666666667\n"
     ]
    },
    {
     "data": {
      "text/plain": [
       "'Nota identificada: Si en la octava B6'"
      ]
     },
     "execution_count": 5,
     "metadata": {},
     "output_type": "execute_result"
    }
   ],
   "source": [
    "archivo_audio = \"./audios/xilofono/si.wav\"\n",
    "\n",
    "identifier = IdentifierFactory.initialize_identifier(\"Xylophone\")\n",
    "identifier.identify_note_from_audio(archivo_audio)"
   ]
  },
  {
   "cell_type": "code",
   "execution_count": 6,
   "metadata": {},
   "outputs": [
    {
     "name": "stdout",
     "output_type": "stream",
     "text": [
      "Frecuencia dominante: 493.20000000000005\n"
     ]
    },
    {
     "data": {
      "text/plain": [
       "'Nota identificada: Si en la octava B4'"
      ]
     },
     "execution_count": 6,
     "metadata": {},
     "output_type": "execute_result"
    }
   ],
   "source": [
    "archivo_audio = \"./audios/violin/si.wav\"\n",
    "\n",
    "identifier = IdentifierFactory.initialize_identifier(\"Violin\")\n",
    "identifier.identify_note_from_audio(archivo_audio)"
   ]
  },
  {
   "cell_type": "markdown",
   "metadata": {},
   "source": [
    "## acordes"
   ]
  },
  {
   "cell_type": "code",
   "execution_count": 7,
   "metadata": {},
   "outputs": [],
   "source": [
    "import os\n",
    "identifier = IdentifierFactory.initialize_identifier(\"PianoChords\")\n",
    "\n",
    "lista_de_archivos = os.listdir(\"./audios/piano/acordes/\")\n",
    "\n",
    "for file in lista_de_archivos:\n",
    "    archivo_audio = \"./audios/piano/acordes/\" + file\n",
    "    #identifier.identify_chord_from_audio(archivo_audio)\n",
    "    #print(file + \" identificado\")\n",
    "    #print(\"\")"
   ]
  },
  {
   "cell_type": "code",
   "execution_count": 22,
   "metadata": {},
   "outputs": [
    {
     "name": "stdout",
     "output_type": "stream",
     "text": [
      "Frecuencias dominantes: [np.float64(261.6875), np.float64(465.97916666666663), np.float64(155.64583333333331)]\n",
      "Acorde aproximado: Do Menor (Cm) compuesto por las notas Do, ReSostenidoMib, Sol (coinciden: Do, ReSostenidoMib)\n",
      "Acorde aproximado: Re Sostenido Mayor (D#) compuesto por las notas ReSostenidoMib, Sol, LaSostenidoSib (coinciden: LaSostenidoSib, ReSostenidoMib)\n",
      "Acorde aproximado: Re Sostenido Menor (D#m) compuesto por las notas ReSostenidoMib, FaSostenidoSolb, LaSostenidoSib (coinciden: LaSostenidoSib, ReSostenidoMib)\n",
      "Acorde aproximado: Sol Sostenido Mayor (G#) compuesto por las notas SolSostenidoLab, Do, ReSostenidoMib (coinciden: Do, ReSostenidoMib)\n"
     ]
    }
   ],
   "source": [
    "archivo_audio = \"./audios/guitarra/acordes/prueba.wav\"\n",
    "\n",
    "identifier = IdentifierFactory.initialize_identifier(\"GuitarChords\")\n",
    "result = identifier.identify_chord_from_audio(archivo_audio)\n",
    "print(result)"
   ]
  },
  {
   "cell_type": "markdown",
   "metadata": {},
   "source": [
    "## Cosas a mejorar\n",
    "- Las octavas\n",
    "- Los acordes\n",
    "- presentación\n"
   ]
  },
  {
   "cell_type": "markdown",
   "metadata": {},
   "source": [
    "## Ejercicio 2:\n",
    "\n",
    "Construir una pequeña aplicación que permita operar con diferentes filtros (con un selector) y trabajar con varios umbrales. (uno para los filtros pasa-bajo y pasa-alto y dos para los filtros pasa-banda y rechaza-banda). Demuestre su funcionalidad con señales ruidosas. Muestre en cada filtrado la señal original y filtrada en el dominio temporal y en el dominio de la frecuencia."
   ]
  },
  {
   "cell_type": "code",
   "execution_count": null,
   "metadata": {},
   "outputs": [],
   "source": []
  }
 ],
 "metadata": {
  "kernelspec": {
   "display_name": "piav",
   "language": "python",
   "name": "python3"
  },
  "language_info": {
   "codemirror_mode": {
    "name": "ipython",
    "version": 3
   },
   "file_extension": ".py",
   "mimetype": "text/x-python",
   "name": "python",
   "nbconvert_exporter": "python",
   "pygments_lexer": "ipython3",
   "version": "3.10.14"
  }
 },
 "nbformat": 4,
 "nbformat_minor": 2
}
