{
 "cells": [
  {
   "cell_type": "markdown",
   "metadata": {},
   "source": [
    "# Práctica 4: Procesamieto de audio\n",
    "\n",
    "### **Participantes:**\n",
    "- Gerardo León Quintana\n",
    "- Susana Suárez Mendoza"
   ]
  },
  {
   "cell_type": "markdown",
   "metadata": {},
   "source": [
    "## Ejercicio 1:\n",
    "\n",
    "Construir un identificador de notas musicales. Es decir; en su versión más sencilla (y suficiente) la entrada es un sonido con una sola nota musical y debe identificar cuál es. Por simplicidad elija un único instrumento para la identificación. "
   ]
  },
  {
   "cell_type": "code",
   "execution_count": 1,
   "metadata": {},
   "outputs": [],
   "source": [
    "from identifier import Identifier, ChordIdentifier\n",
    "import warnings"
   ]
  },
  {
   "cell_type": "code",
   "execution_count": 2,
   "metadata": {},
   "outputs": [
    {
     "name": "stdout",
     "output_type": "stream",
     "text": [
      "Frecuencia dominante: 469.32848563353747\n"
     ]
    },
    {
     "data": {
      "text/plain": [
       "'Nota identificada: LaSostenidoSib en la octava A#4'"
      ]
     },
     "execution_count": 2,
     "metadata": {},
     "output_type": "execute_result"
    }
   ],
   "source": [
    "archivo_audio = \"./audios/la_sib.wav\"\n",
    "\n",
    "identifier = Identifier()\n",
    "\n",
    "identifier.identify_note_from_audio(archivo_audio, 6)"
   ]
  },
  {
   "cell_type": "code",
   "execution_count": 17,
   "metadata": {},
   "outputs": [
    {
     "name": "stdout",
     "output_type": "stream",
     "text": [
      "Identified note: C\n",
      "Identified note: G\n",
      "Identified note: C#\n",
      "Identified note: C#\n",
      "Identified note: C\n",
      "Identified note: F#\n",
      "Identified note: E\n",
      "Identified note: C\n",
      "Identified note: G\n",
      "Identified note: C#\n",
      "Identified note: C\n",
      "Identified note: A#\n",
      "Identified note: C\n",
      "Identified note: D\n",
      "Identified note: G\n",
      "Identified note: C\n",
      "['Acorde identificado: C Major']\n"
     ]
    }
   ],
   "source": [
    "warnings.filterwarnings(\"ignore\")\n",
    "\n",
    "chord_identifier = ChordIdentifier()\n",
    "audio_file = './audios/c_mayor-piano.wav'\n",
    "\n",
    "chords = chord_identifier.identify_chord_from_audio(audio_file)\n",
    "print(chords)"
   ]
  },
  {
   "cell_type": "markdown",
   "metadata": {},
   "source": [
    "## Ejercicio 2:\n",
    "\n",
    "Construir una pequeña aplicación que permita operar con diferentes filtros (con un selector) y trabajar con varios umbrales. (uno para los filtros pasa-bajo y pasa-alto y dos para los filtros pasa-banda y rechaza-banda). Demuestre su funcionalidad con señales ruidosas. Muestre en cada filtrado la señal original y filtrada en el dominio temporal y en el dominio de la frecuencia."
   ]
  },
  {
   "cell_type": "code",
   "execution_count": null,
   "metadata": {},
   "outputs": [],
   "source": []
  }
 ],
 "metadata": {
  "kernelspec": {
   "display_name": "piav",
   "language": "python",
   "name": "python3"
  },
  "language_info": {
   "codemirror_mode": {
    "name": "ipython",
    "version": 3
   },
   "file_extension": ".py",
   "mimetype": "text/x-python",
   "name": "python",
   "nbconvert_exporter": "python",
   "pygments_lexer": "ipython3",
   "version": "3.10.14"
  }
 },
 "nbformat": 4,
 "nbformat_minor": 2
}
